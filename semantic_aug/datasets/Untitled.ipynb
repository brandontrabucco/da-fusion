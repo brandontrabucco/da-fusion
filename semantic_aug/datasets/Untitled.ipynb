{
 "cells": [
  {
   "cell_type": "code",
   "execution_count": 33,
   "id": "731e1ac4",
   "metadata": {},
   "outputs": [],
   "source": [
    "import numpy as np\n",
    "import glob as glob\n",
    "import os\n",
    "import sys"
   ]
  },
  {
   "cell_type": "code",
   "execution_count": 18,
   "id": "e20226c6",
   "metadata": {},
   "outputs": [],
   "source": [
    "os.chdir('/home/kdoherty/spurge/semantic-aug')\n",
    "seed = 123"
   ]
  },
  {
   "cell_type": "code",
   "execution_count": 19,
   "id": "97ea4a8a",
   "metadata": {},
   "outputs": [],
   "source": [
    "data_dir = 'data/spurge'\n",
    "num_classes: int = 2\n",
    "class_names = [\"no spurge\", \"leafy spurge\"]"
   ]
  },
  {
   "cell_type": "code",
   "execution_count": 31,
   "id": "399ac274",
   "metadata": {},
   "outputs": [],
   "source": [
    "def forecast_imgs(data_dir, seed):\n",
    "    absent = list(glob.glob(os.path.join(data_dir, \"absent/*.png\")))\n",
    "    apparent = list(glob.glob(os.path.join(data_dir, \"apparent/*.png\")))\n",
    "\n",
    "    absent_size = len(absent)\n",
    "    apparent_size = len(apparent)\n",
    "\n",
    "    #how many samples for train set\n",
    "    absent_train_size = round(absent_size*0.8) \n",
    "    apparent_train_size = round(apparent_size*0.8)\n",
    "\n",
    "    rng = np.random.default_rng(seed)\n",
    "\n",
    "    absent_ids = rng.permutation(len(absent))\n",
    "    apparent_ids = rng.permutation(len(apparent))\n",
    "\n",
    "    absent_ids_train = absent_ids[:absent_train_size]\n",
    "    apparent_ids_train = apparent_ids[:apparent_train_size]\n",
    "    \n",
    "    absent_ims = [absent[i] for i in absent_ids_train]\n",
    "    apparent_ims = [apparent[i] for i in apparent_ids_train]\n",
    "\n",
    "    return absent_ims, apparent_ims "
   ]
  },
  {
   "cell_type": "code",
   "execution_count": null,
   "id": "a2e204a3",
   "metadata": {},
   "outputs": [],
   "source": [
    "sys.argv[i]"
   ]
  }
 ],
 "metadata": {
  "kernelspec": {
   "display_name": "Python 3 (ipykernel)",
   "language": "python",
   "name": "python3"
  },
  "language_info": {
   "codemirror_mode": {
    "name": "ipython",
    "version": 3
   },
   "file_extension": ".py",
   "mimetype": "text/x-python",
   "name": "python",
   "nbconvert_exporter": "python",
   "pygments_lexer": "ipython3",
   "version": "3.7.15"
  }
 },
 "nbformat": 4,
 "nbformat_minor": 5
}
